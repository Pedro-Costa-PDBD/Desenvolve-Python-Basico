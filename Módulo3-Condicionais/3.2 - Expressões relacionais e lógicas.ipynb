{
 "cells": [
  {
   "cell_type": "code",
   "execution_count": 5,
   "id": "49e1c907-087f-4869-91c2-8b597c71d022",
   "metadata": {},
   "outputs": [
    {
     "name": "stdin",
     "output_type": "stream",
     "text": [
      " 1\n",
      " 2\n"
     ]
    },
    {
     "name": "stdout",
     "output_type": "stream",
     "text": [
      "False\n"
     ]
    }
   ],
   "source": [
    "Juliana = int(input())\n",
    "Cris = int(input())\n",
    "Idades = (Juliana >= 18) and (Cris >= 18)\n",
    "print(Idades)"
   ]
  },
  {
   "cell_type": "code",
   "execution_count": 8,
   "id": "341bcaca-7329-4e17-aeab-191a58f54117",
   "metadata": {},
   "outputs": [
    {
     "name": "stdin",
     "output_type": "stream",
     "text": [
      " 22\n",
      " 22\n"
     ]
    },
    {
     "name": "stdout",
     "output_type": "stream",
     "text": [
      "True\n"
     ]
    }
   ],
   "source": [
    "Juliana = int(input())\n",
    "Cris = int(input())\n",
    "Idades = (Juliana >= 18) or (Cris >= 18)\n",
    "print(Idades)"
   ]
  },
  {
   "cell_type": "code",
   "execution_count": 57,
   "id": "0f2ecc1e-ac52-4914-b1d3-6bb9b5fa7e6f",
   "metadata": {},
   "outputs": [
    {
     "name": "stdin",
     "output_type": "stream",
     "text": [
      "Qual sua idade?:  17\n",
      "Você já jogou pelo menos 3 jogos de tabuleiro?:  sim\n",
      "Quantas vezes já ganhou um jogo?:  0\n"
     ]
    },
    {
     "name": "stdout",
     "output_type": "stream",
     "text": [
      "Você pode entrar no clube: False\n"
     ]
    }
   ],
   "source": [
    "Idade = int(input(\"Qual sua idade?: \"))\n",
    "Jogo = input(\"Você já jogou pelo menos 3 jogos de tabuleiro?: \")\n",
    "Jogo_2 = \"sim\"\n",
    "Ganho = int(input(\"Quantas vezes já ganhou um jogo?: \"))\n",
    "\n",
    "Entrada = (Idade >= 16 and Idade <= 18) and (Ganho >= 1) and (Jogo == Jogo_2)\n",
    "print(f\"Você pode entrar no clube: {Entrada}\")"
   ]
  },
  {
   "cell_type": "code",
   "execution_count": 79,
   "id": "2a06e717-c2b8-43de-a712-04c0a75960a8",
   "metadata": {},
   "outputs": [
    {
     "name": "stdin",
     "output_type": "stream",
     "text": [
      "Escolha a classe (guerreiro, mago ou arqueiro):  arqueiro\n",
      "Digite os pontos de força (de 1 a 20):  16\n",
      "Digite os pontos de magia (de 1 a 20):  15\n"
     ]
    },
    {
     "name": "stdout",
     "output_type": "stream",
     "text": [
      "Pontos de atributo consistentes com a classe escolhida: False\n"
     ]
    }
   ],
   "source": [
    "classe = input(\"Escolha a classe (guerreiro, mago ou arqueiro): \")\n",
    "forca = int(input(\"Digite os pontos de força (de 1 a 20): \"))\n",
    "magia = int(input(\"Digite os pontos de magia (de 1 a 20): \"))\n",
    "\n",
    "Mago = (classe == \"mago\") and (forca <= 10) and (magia >= 15)\n",
    "Guerreiro = (classe == \"guerreiro\") and (forca >= 15) and (magia <= 10)\n",
    "Arqueiro = (classe == \"arqueiro\") and (forca > 5 and forca < 16) and (magia > 5 and magia < 16)\n",
    "if classe == \"mago\":\n",
    "   print(f\"Pontos de atributo consistentes com a classe escolhida: {Mago}\")\n",
    "elif classe == \"guerreiro\":\n",
    "    print(f\"Pontos de atributo consistentes com a classe escolhida: {Guerreiro}\")\n",
    "elif classe == \"arqueiro\":\n",
    "    print(f\"Pontos de atributo consistentes com a classe escolhida: {Arqueiro}\")"
   ]
  },
  {
   "cell_type": "code",
   "execution_count": 99,
   "id": "a659ff66-1662-4739-befd-b4295b847686",
   "metadata": {},
   "outputs": [
    {
     "name": "stdin",
     "output_type": "stream",
     "text": [
      "Qual seu gênero?(Mulher ou Homem):  Homem\n",
      "Qual sua idade?:  60\n",
      "Quanto tempo de serviço já trabalhou?(Em anos):  26\n"
     ]
    },
    {
     "name": "stdout",
     "output_type": "stream",
     "text": [
      "Você pode se aposentar: True\n"
     ]
    }
   ],
   "source": [
    "genero = input(\"Qual seu gênero?(Mulher ou Homem): \")\n",
    "idade = int(input(\"Qual sua idade?: \"))\n",
    "tempo = int(input(\"Quanto tempo de serviço já trabalhou?(Em anos): \"))\n",
    "\n",
    "Mulher = (genero == \"Mulher\") and (( idade > 60) or (tempo >= 30) or (idade >= 60 and tempo >= 25))\n",
    "Homem = (genero == \"Homem\") and (( idade > 65) or (tempo >= 30) or (idade >= 60 and tempo >= 25))\n",
    "if genero == \"Mulher\":\n",
    "    print(f\"Você pode se aposentar: {Mulher}\")\n",
    "elif genero == \"Homem\":\n",
    "    print(f\"Você pode se aposentar: {Homem}\")"
   ]
  },
  {
   "cell_type": "code",
   "execution_count": null,
   "id": "ba1c8213-3967-4bda-b3d4-fc12d660fe81",
   "metadata": {},
   "outputs": [],
   "source": []
  }
 ],
 "metadata": {
  "kernelspec": {
   "display_name": "Python 3 (ipykernel)",
   "language": "python",
   "name": "python3"
  },
  "language_info": {
   "codemirror_mode": {
    "name": "ipython",
    "version": 3
   },
   "file_extension": ".py",
   "mimetype": "text/x-python",
   "name": "python",
   "nbconvert_exporter": "python",
   "pygments_lexer": "ipython3",
   "version": "3.11.7"
  }
 },
 "nbformat": 4,
 "nbformat_minor": 5
}
