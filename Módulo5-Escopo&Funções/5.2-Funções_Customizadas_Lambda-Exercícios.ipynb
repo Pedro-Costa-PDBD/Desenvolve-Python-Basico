{
 "cells": [
  {
   "cell_type": "markdown",
   "id": "cbdff5a5",
   "metadata": {},
   "source": [
    "# Módulo 5 - Funções\n",
    "\n",
    "## Aulas 5.2 - Funções Customizadas e 5.4 Funções ```lambda```"
   ]
  },
  {
   "cell_type": "markdown",
   "id": "28a3fee2",
   "metadata": {},
   "source": [
    "### Q1.\n",
    "\n",
    "- Sabendo que o código a seguir calcula o fatorial de n, escreva uma função chamada ```fatorial()``` que recebe um inteiro ```n``` como parâmetro e retorna o resultado do fatorial de ```n```. \n",
    "- No programa principal, peça ao usuário o valor de ```n```, chame a sua função e imprima o retorno.\n",
    "\n",
    "```python\n",
    "fat = 1\n",
    "for i in range(1, n+1):\n",
    "    fat *= i \n",
    "```"
   ]
  },
  {
   "cell_type": "code",
   "execution_count": 50,
   "id": "d126b3a5",
   "metadata": {},
   "outputs": [
    {
     "name": "stdin",
     "output_type": "stream",
     "text": [
      "Digite um valor:  5\n"
     ]
    },
    {
     "name": "stdout",
     "output_type": "stream",
     "text": [
      "O fatorial de 5 é: 120.\n"
     ]
    }
   ],
   "source": [
    "def fator(n):\n",
    "    fatorial = 1\n",
    "    for x in range(1, n+1):\n",
    "        fatorial *= x\n",
    "    return fatorial\n",
    "n = int(input(\"Digite um valor: \"))\n",
    "resposta = fator(n)\n",
    "print(f\"O fatorial de {n} é: {resposta}.\")"
   ]
  },
  {
   "cell_type": "markdown",
   "id": "c0a1f599",
   "metadata": {},
   "source": [
    "### Q2.\n",
    "\n",
    "- Escreva uma função em Python chamada ```soma_quadrados``` que recebe dois números como parâmetros e retorna a soma dos seus quadrados. \n",
    "- No programa principal solicite ao usuário que insira dois números e utilize a função para exibir a soma dos quadrados."
   ]
  },
  {
   "cell_type": "code",
   "execution_count": 49,
   "id": "6dbddaad",
   "metadata": {},
   "outputs": [
    {
     "name": "stdin",
     "output_type": "stream",
     "text": [
      "Insira o valor de x:  2\n",
      "Insira o valor de y:  3\n"
     ]
    },
    {
     "name": "stdout",
     "output_type": "stream",
     "text": [
      "A soma dos quadrados de 2 e 3 é: 13\n"
     ]
    }
   ],
   "source": [
    "import math\n",
    "def quadrado(x,y):\n",
    "    mult = (x**2) + (y**2)\n",
    "    return mult\n",
    "x = int(input(\"Insira o valor de x: \"))\n",
    "y = int(input(\"Insira o valor de y: \"))\n",
    "resposta = quadrado(x,y)\n",
    "print(f\"A soma dos quadrados de {x} e {y} é: {resposta}\")"
   ]
  },
  {
   "cell_type": "markdown",
   "id": "6ba34ce0",
   "metadata": {},
   "source": [
    "### Q3.\n",
    "\n",
    "- Crie uma função em Python chamada ```soma_digitos``` que recebe um número inteiro como parâmetro e retorna a soma dos seus dígitos. Por exemplo, para o número 123, a função deve retornar 6, $(1 + 2 + 3)$.\n",
    "    - O desafio aqui é separar os dígitos de um número inteiro usando operações aritméticas <br> <br>\n",
    "\n",
    "- No programa principal solicite ao usuário que insira um número e utilize a função ```soma_digitos``` para calcular e exibir a soma dos seus dígitos."
   ]
  },
  {
   "cell_type": "code",
   "execution_count": 8,
   "id": "34838ebf",
   "metadata": {},
   "outputs": [
    {
     "name": "stdin",
     "output_type": "stream",
     "text": [
      "Digite um valor com 2 ou mais dígitos:  145786\n"
     ]
    },
    {
     "name": "stdout",
     "output_type": "stream",
     "text": [
      "A soma dos dígitos de 145786 é: 31.\n"
     ]
    }
   ],
   "source": [
    "def soma_digitos(n):\n",
    "    digito2 = 0\n",
    "    while n > 0:\n",
    "        digito = n % 10\n",
    "        n = n // 10\n",
    "        digito2 += digito\n",
    "    return digito2\n",
    "n = int(input(\"Digite um valor com 2 ou mais dígitos: \"))\n",
    "resposta = soma_digitos(n)\n",
    "print(f\"A soma dos dígitos de {n} é: {resposta}.\")"
   ]
  },
  {
   "cell_type": "markdown",
   "id": "c318b159",
   "metadata": {},
   "source": [
    "### Q4.\n",
    "\n",
    "- Crie a função ```inverteValor()``` que recebe um inteiro de qualquer tamanho e retorna esse valor invertido usando apenas operações aritméticas\n",
    "- Crie a função ```verificaInverso()``` que recebe o valor original e o valor invertido e retorna verdadeiro se ambos forem igualmente par ou igualmente ímpar. Retorne falso caso contrário.\n",
    "- No programa principal, peça um valor do usuário e imprima o retorno de ambas as funções.\n"
   ]
  },
  {
   "cell_type": "code",
   "execution_count": 48,
   "id": "e4e47d1d",
   "metadata": {},
   "outputs": [
    {
     "name": "stdin",
     "output_type": "stream",
     "text": [
      "Digite um valor com 2 ou mais dígitos:  1235\n"
     ]
    },
    {
     "name": "stdout",
     "output_type": "stream",
     "text": [
      "O valor invertido de 1235 é: 5321.\n",
      "O valor é: Verdadeiro\n"
     ]
    }
   ],
   "source": [
    "def inverteValor(n):\n",
    "    sequência = 0\n",
    "    while n > 0:\n",
    "        digito_invertido =  n % 10\n",
    "        n //= 10\n",
    "        sequência = sequência * 10 + digito_invertido\n",
    "    return sequência\n",
    "n = int(input(\"Digite um valor com 2 ou mais dígitos: \"))\n",
    "resposta = inverteValor(n)\n",
    "print(f\"O valor invertido de {n} é: {resposta}.\")\n",
    "def verificaInverso(n):\n",
    "    if (n % 2 == 0) and (inverteValor(n) % 2 == 0):\n",
    "        resposta = \"Verdadeiro\"\n",
    "    elif (not n % 2 == 0) and (not inverteValor(n) % 2 == 0):\n",
    "        resposta = \"Verdadeiro\"\n",
    "    else:\n",
    "        resposta = \"Falso\"\n",
    "    return resposta\n",
    "x = verificaInverso(n)\n",
    "print(f\"O valor é: {x}\")"
   ]
  },
  {
   "cell_type": "markdown",
   "id": "329be966",
   "metadata": {},
   "source": [
    "### Q5.\n",
    "\n",
    "Você está desenvolvendo um programa para auxiliar em cálculos de geometria básica. Crie as seguintes funções:\n",
    "- A função ```calcula_perimetro_triangulo()``` que recebe três inteiros correspondentes aos lados de um triângulo e retorna o perímetro do triângulo, ou seja, a soma dos seus lados.\n",
    "- A função ```calcula_perimetro_circulo()``` que recebe um inteiro referente ao raio do círculo e retorna o perímetro do círculo, dado por $2 \\pi r$. Use a constante $\\pi$ da biblioteca ```math```.\n",
    "- A função ```calcula_perimetro_retangulo()``` que possui um parâmetro obrigatório ```lado1``` e um opcional ```lado2```, ambos inteiros. Se o valor opcional não for fornecido, significa que se trata de um quadrado. Sua função deve calcular e retornar o perímetro do retângulo, ou seja, a soma de seus lados. \n",
    "    - Para o quadrado, é dado por $4 \\times lado1$\n",
    "    - Para o retângulo é dado por $2 \\times lado1 + 2 \\times lado2$\n",
    "    \n",
    "- No programa principal apresente um menu com as opções disponíveis do seu sistema e uma quarta opção ```Sair```. Solicite ao usuário a opção desejada, solicite as entradas correspondentes à opção escolhida, invoque a respective função e apresente o seu retorno. Seu programa deve retornar ao menu até que o usuário escolha a opção ```Sair```\n",
    "\n",
    "Exemplo de interação:\n",
    "```\n",
    "1 - Calcular perímetro triângulo\n",
    "2 - Calcular perímetro círculo\n",
    "3 - Calcular perímetro retângulo\n",
    "4 - Sair\n",
    "\n",
    "Opção: 1\n",
    "Digite os três lados do triângulo:\n",
    "3\n",
    "4\n",
    "5\n",
    "O perímetro é: 12\n",
    "\n",
    "1 - Calcular perímetro triângulo\n",
    "2 - Calcular perímetro círculo\n",
    "3 - Calcular perímetro retângulo\n",
    "4 - Sair\n",
    "\n",
    "Opção: 3\n",
    "Informe os dois lados do retângulo. Se for um quadrado, digite 0 para o segundo valor:\n",
    "5\n",
    "0\n",
    "O perímetro é: 20\n",
    "\n",
    "1 - Calcular perímetro triângulo\n",
    "2 - Calcular perímetro círculo\n",
    "3 - Calcular perímetro retângulo\n",
    "4 - Sair\n",
    "\n",
    "Opção: 4\n",
    "```"
   ]
  },
  {
   "cell_type": "code",
   "execution_count": 65,
   "id": "0793d328",
   "metadata": {},
   "outputs": [
    {
     "name": "stdin",
     "output_type": "stream",
     "text": [
      "Valor do lado 1 do triangulo:  4\n",
      "Valor do lado 2 do triangulo:  5\n",
      "Valor do lado 3 do triangulo:  6\n"
     ]
    },
    {
     "name": "stdout",
     "output_type": "stream",
     "text": [
      "O valor do perímetro do triângulo é: 15\n"
     ]
    },
    {
     "name": "stdin",
     "output_type": "stream",
     "text": [
      "Valor do lado 1 do retangulo:  4\n",
      "Valor do lado 2 do retangulo(0 para quadrado):  0\n"
     ]
    },
    {
     "name": "stdout",
     "output_type": "stream",
     "text": [
      "O valor do perímetro é: 16\n"
     ]
    },
    {
     "name": "stdin",
     "output_type": "stream",
     "text": [
      "Valor do raio do circulo:  4\n"
     ]
    },
    {
     "name": "stdout",
     "output_type": "stream",
     "text": [
      "O valor do perímetro do círculo é: 25.132741228718345\n"
     ]
    }
   ],
   "source": [
    "a = int(input(\"Valor do lado 1 do triangulo: \"))\n",
    "b = int(input(\"Valor do lado 2 do triangulo: \"))\n",
    "c = int(input(\"Valor do lado 3 do triangulo: \"))\n",
    "def calcula_perimetro_triangulo(a, b, c):\n",
    "    per_tri = a + b + c\n",
    "    return per_tri\n",
    "tri_per = calcula_perimetro_triangulo(a, b, c)\n",
    "print(f\"O valor do perímetro do triângulo é: {tri_per}\")\n",
    "\n",
    "\n",
    "\n",
    "\n",
    "d = int(input(\"Valor do lado 1 do retangulo: \"))\n",
    "e = int(input(\"Valor do lado 2 do retangulo(0 para quadrado): \"))\n",
    "def calcula_perimetro_retangulo(d, e):\n",
    "    if e != 0:\n",
    "        per_ret_qua = (2 * d) + (2 * e)\n",
    "    elif e == 0:\n",
    "        per_ret_qua = 4 * d\n",
    "    return per_ret_qua\n",
    "qua_ret_per = calcula_perimetro_retangulo(d, e)\n",
    "print(f\"O valor do perímetro é: {qua_ret_per}\")\n",
    "\n",
    "\n",
    "\n",
    "\n",
    "import math\n",
    "f = int(input(\"Valor do raio do circulo: \"))\n",
    "def calcula_perimetro_circulo(f):\n",
    "    pi = math.pi\n",
    "    per_cir = 2 * f * pi\n",
    "    return per_cir\n",
    "cir_per = calcula_perimetro_circulo(f)\n",
    "print(f\"O valor do perímetro do círculo é: {cir_per}\")"
   ]
  },
  {
   "cell_type": "code",
   "execution_count": 67,
   "id": "36269c71",
   "metadata": {},
   "outputs": [
    {
     "name": "stdout",
     "output_type": "stream",
     "text": [
      "1 - Calcular perímetro triângulo\n",
      "2 - Calcular perímetro círculo\n",
      "3 - Calcular perímetro retângulo\n",
      "4 - Sair\n"
     ]
    },
    {
     "name": "stdin",
     "output_type": "stream",
     "text": [
      "O que deseja fazer?(1 ao 4):  1\n",
      "Valor do lado 1 do triangulo:  1\n",
      "Valor do lado 2 do triangulo:  2\n",
      "Valor do lado 3 do triangulo:  3\n"
     ]
    },
    {
     "name": "stdout",
     "output_type": "stream",
     "text": [
      "O valor do perímetro do triângulo é: 6\n",
      "1 - Calcular perímetro triângulo\n",
      "2 - Calcular perímetro círculo\n",
      "3 - Calcular perímetro retângulo\n",
      "4 - Sair\n"
     ]
    },
    {
     "name": "stdin",
     "output_type": "stream",
     "text": [
      "O que deseja fazer?(1 ao 4):  2\n",
      "Valor do raio do circulo:  4\n"
     ]
    },
    {
     "name": "stdout",
     "output_type": "stream",
     "text": [
      "O valor do perímetro do círculo é: 25.132741228718345\n",
      "1 - Calcular perímetro triângulo\n",
      "2 - Calcular perímetro círculo\n",
      "3 - Calcular perímetro retângulo\n",
      "4 - Sair\n"
     ]
    },
    {
     "name": "stdin",
     "output_type": "stream",
     "text": [
      "O que deseja fazer?(1 ao 4):  3\n",
      "Valor do lado 1 do retangulo:  4\n",
      "Valor do lado 2 do retangulo(0 para quadrado):  5\n"
     ]
    },
    {
     "name": "stdout",
     "output_type": "stream",
     "text": [
      "O valor do perímetro é: 18\n",
      "1 - Calcular perímetro triângulo\n",
      "2 - Calcular perímetro círculo\n",
      "3 - Calcular perímetro retângulo\n",
      "4 - Sair\n"
     ]
    },
    {
     "name": "stdin",
     "output_type": "stream",
     "text": [
      "O que deseja fazer?(1 ao 4):  4\n"
     ]
    }
   ],
   "source": [
    "while True:\n",
    "    print(\"1 - Calcular perímetro triângulo\")\n",
    "    print(\"2 - Calcular perímetro círculo\")\n",
    "    print(\"3 - Calcular perímetro retângulo\")\n",
    "    print(\"4 - Sair\")\n",
    "    valor = int(input(\"O que deseja fazer?(1 ao 4): \"))\n",
    "    if valor == 1:\n",
    "        a = int(input(\"Valor do lado 1 do triangulo: \"))\n",
    "        b = int(input(\"Valor do lado 2 do triangulo: \"))\n",
    "        c = int(input(\"Valor do lado 3 do triangulo: \"))\n",
    "        def calcula_perimetro_triangulo(a, b, c):\n",
    "            per_tri = a + b + c\n",
    "            return per_tri\n",
    "        tri_per = calcula_perimetro_triangulo(a, b, c)\n",
    "        print(f\"O valor do perímetro do triângulo é: {tri_per}\")\n",
    "    if valor == 2:\n",
    "        import math\n",
    "        f = int(input(\"Valor do raio do circulo: \"))\n",
    "        def calcula_perimetro_circulo(f):\n",
    "            pi = math.pi\n",
    "            per_cir = 2 * f * pi\n",
    "            return per_cir\n",
    "        cir_per = calcula_perimetro_circulo(f)\n",
    "        print(f\"O valor do perímetro do círculo é: {cir_per}\")\n",
    "    if valor == 3:\n",
    "        d = int(input(\"Valor do lado 1 do retangulo: \"))\n",
    "        e = int(input(\"Valor do lado 2 do retangulo(0 para quadrado): \"))\n",
    "        def calcula_perimetro_retangulo(d, e):\n",
    "            if e != 0:\n",
    "                per_ret_qua = (2 * d) + (2 * e)\n",
    "            elif e == 0:\n",
    "                per_ret_qua = 4 * d\n",
    "            return per_ret_qua\n",
    "        qua_ret_per = calcula_perimetro_retangulo(d, e)\n",
    "        print(f\"O valor do perímetro é: {qua_ret_per}\")\n",
    "    if valor == 4:\n",
    "        print(\"Fim.\")\n",
    "        break"
   ]
  },
  {
   "cell_type": "markdown",
   "id": "3016bcc7",
   "metadata": {},
   "source": [
    "## Funções ```lambda```"
   ]
  },
  {
   "cell_type": "markdown",
   "id": "f9cdb8dd",
   "metadata": {},
   "source": [
    "### Q6.\n",
    "\n",
    "Crie uma função lambda para verificar se um número é par ou ímpar. Em seguida, solicite ao usuário um número indefinidos de valores (até que o usuário digite 0). Para cada valor de entrada, informe se é par ou ímpar.\n",
    "\n",
    "Exemplo de interação:\n",
    "```\n",
    "Digite os valores que deseja verificar a paridade (digite 0 para finalizar a entrada de dados):\n",
    "3\n",
    "ímpar\n",
    "8\n",
    "par\n",
    "12\n",
    "par\n",
    "5\n",
    "ímpar\n",
    "7ímpar\n",
    "```"
   ]
  },
  {
   "cell_type": "code",
   "execution_count": 73,
   "id": "e3c31a78",
   "metadata": {},
   "outputs": [
    {
     "name": "stdout",
     "output_type": "stream",
     "text": [
      "Digite os valores que deseja verificar a paridade (digite 0 para finalizar a entrada de dados): \n"
     ]
    },
    {
     "name": "stdin",
     "output_type": "stream",
     "text": [
      "Número:  4\n"
     ]
    },
    {
     "name": "stdout",
     "output_type": "stream",
     "text": [
      "Par.\n"
     ]
    },
    {
     "name": "stdin",
     "output_type": "stream",
     "text": [
      "Número:  5\n"
     ]
    },
    {
     "name": "stdout",
     "output_type": "stream",
     "text": [
      "Impar.\n"
     ]
    },
    {
     "name": "stdin",
     "output_type": "stream",
     "text": [
      "Número:  3\n"
     ]
    },
    {
     "name": "stdout",
     "output_type": "stream",
     "text": [
      "Impar.\n"
     ]
    },
    {
     "name": "stdin",
     "output_type": "stream",
     "text": [
      "Número:  10\n"
     ]
    },
    {
     "name": "stdout",
     "output_type": "stream",
     "text": [
      "Par.\n"
     ]
    },
    {
     "name": "stdin",
     "output_type": "stream",
     "text": [
      "Número:  15\n"
     ]
    },
    {
     "name": "stdout",
     "output_type": "stream",
     "text": [
      "Impar.\n"
     ]
    },
    {
     "name": "stdin",
     "output_type": "stream",
     "text": [
      "Número:  0\n"
     ]
    },
    {
     "name": "stdout",
     "output_type": "stream",
     "text": [
      "Par.\n"
     ]
    }
   ],
   "source": [
    "lamb = lambda a: a % 2\n",
    "print(\"Digite os valores que deseja verificar a paridade (digite 0 para finalizar a entrada de dados): \")\n",
    "while True:\n",
    "    x = int(input(\"Número: \"))\n",
    "    if lamb(x)  == 0:\n",
    "        print(\"Par.\")\n",
    "    elif lamb(x) != 0:\n",
    "        print(\"Impar.\")\n",
    "    if x == 0:\n",
    "        break"
   ]
  },
  {
   "cell_type": "markdown",
   "id": "5a87474d",
   "metadata": {},
   "source": [
    "### Q7.\n",
    "\n",
    "Escreva um programa que pergunte ao usuário qual operação ele deseja: maior ou menor.\n",
    "Em seguida leia uma quantidade indefinida de valores do usuário, até que o usuário digite o valor zero.\n",
    "Apresente ao final o maior ou menor dos valores digitados de acordo com a escolha do usuário.\n",
    "\n",
    "**Sua solução deve incluir pelo menos uma função ```lambda```** \n",
    "\n",
    "Exemplo de interação:\n",
    "```\n",
    "Opções: (1) maior ou (2) menor?\n",
    "Opção: 1\n",
    "\n",
    "Digite os valores de entrada. Digite 0 para finalizar a entrada de valores.\n",
    "4\n",
    "12\n",
    "15\n",
    "1\n",
    "0\n",
    "\n",
    "O maior valor é: 15\n",
    "```"
   ]
  },
  {
   "cell_type": "code",
   "execution_count": 15,
   "id": "ee3f68ca",
   "metadata": {},
   "outputs": [
    {
     "name": "stdin",
     "output_type": "stream",
     "text": [
      "(1) maior ou (2) menor? 2\n",
      "Número:  15\n",
      "Número:  2\n",
      "Número:  0\n"
     ]
    },
    {
     "name": "stdout",
     "output_type": "stream",
     "text": [
      "O valor é: 2\n"
     ]
    }
   ],
   "source": [
    "op = int(input(\"(1) maior ou (2) menor?\"))\n",
    "if op == 1:\n",
    "    result = float(\"-inf\")\n",
    "    op_function = lambda a, b: a>b\n",
    "else:\n",
    "    result = float(\"inf\")\n",
    "    op_function = lambda a, b: a<b\n",
    "while True: \n",
    "    x = int(input(\"Número: \"))\n",
    "    if x == 0: \n",
    "        break\n",
    "    elif x == 0: break\n",
    "    if op_function(x, result):\n",
    "        result = x\n",
    "print(f\"O valor é: {result}\")"
   ]
  },
  {
   "cell_type": "code",
   "execution_count": null,
   "id": "53b3e3fb-0437-4aa2-b592-ce063d9715cb",
   "metadata": {},
   "outputs": [],
   "source": []
  }
 ],
 "metadata": {
  "kernelspec": {
   "display_name": "Python 3 (ipykernel)",
   "language": "python",
   "name": "python3"
  },
  "language_info": {
   "codemirror_mode": {
    "name": "ipython",
    "version": 3
   },
   "file_extension": ".py",
   "mimetype": "text/x-python",
   "name": "python",
   "nbconvert_exporter": "python",
   "pygments_lexer": "ipython3",
   "version": "3.11.7"
  }
 },
 "nbformat": 4,
 "nbformat_minor": 5
}
