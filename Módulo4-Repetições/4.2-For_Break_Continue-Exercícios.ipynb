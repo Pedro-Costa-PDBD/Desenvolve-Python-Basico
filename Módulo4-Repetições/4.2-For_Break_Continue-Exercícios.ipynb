{
 "cells": [
  {
   "cell_type": "markdown",
   "id": "29e89030",
   "metadata": {},
   "source": [
    "# Módulo 4 - Repetições\n",
    "\n",
    "## Aulas 4.2 - Comando ```for``` e 4.3 Break e Continue"
   ]
  },
  {
   "cell_type": "markdown",
   "id": "a45b42df",
   "metadata": {},
   "source": [
    "### Q1.\n",
    "\n",
    "Crie um programa em Python que utilize o comando for para imprimir os números de 10 a 1, em ordem decrescente."
   ]
  },
  {
   "cell_type": "code",
   "execution_count": 7,
   "id": "55a75b3d",
   "metadata": {},
   "outputs": [
    {
     "name": "stdout",
     "output_type": "stream",
     "text": [
      "10\n",
      "9\n",
      "8\n",
      "7\n",
      "6\n",
      "5\n",
      "4\n",
      "3\n",
      "2\n",
      "1\n"
     ]
    }
   ],
   "source": [
    "for i in range(10,0,-1):\n",
    "    print(i)"
   ]
  },
  {
   "cell_type": "markdown",
   "id": "94b47c36",
   "metadata": {},
   "source": [
    "### Q2.\n",
    "\n",
    "Dado um número inteiro positivo informado pelo usuário, crie um programa em Python que utilize o comando for para calcular e exibir a soma dos números de 1 até o número informado. Ou seja, $1 + 2 + 3 + ... + n$\n",
    "\n",
    "Exemplo de interação:\n",
    "```\n",
    "Digite um número: 5\n",
    "A soma dos números de 1 a 5 é 15\n",
    "```\n"
   ]
  },
  {
   "cell_type": "code",
   "execution_count": 21,
   "id": "45b71596",
   "metadata": {},
   "outputs": [
    {
     "name": "stdin",
     "output_type": "stream",
     "text": [
      "Digite um número:  -5\n"
     ]
    },
    {
     "name": "stdout",
     "output_type": "stream",
     "text": [
      "Este valor não é positivo\n"
     ]
    }
   ],
   "source": [
    "n = int(input(\"Digite um número: \"))\n",
    "soma = 0\n",
    "for x in range(1,n+1):\n",
    "    if n < 0:\n",
    "        break\n",
    "    soma += x\n",
    "if n >= 0:\n",
    "    print(f\"A soma dos números de 1 a {n} é: {soma}\")\n",
    "else:\n",
    "    print(\"Este valor não é positivo\")"
   ]
  },
  {
   "cell_type": "markdown",
   "id": "0411d170",
   "metadata": {},
   "source": [
    "### Q3.\n",
    "\n",
    "Escreva um programa que lê 10 valores inteiros positivos do usuário e ao final imprime a média dos valores digitados com duas casas decimais.\n",
    "\n",
    "```\n",
    "Digite 10 números positivos:\n",
    "3\n",
    "2\n",
    "12\n",
    "14\n",
    "20\n",
    "42\n",
    "19\n",
    "0\n",
    "8\n",
    "1\n",
    "A média dos valores digitados é 12.10\n",
    "```"
   ]
  },
  {
   "cell_type": "code",
   "execution_count": 23,
   "id": "3f72f358",
   "metadata": {},
   "outputs": [
    {
     "name": "stdin",
     "output_type": "stream",
     "text": [
      "Digite 10 números positivos:  10\n",
      "Digite 10 números positivos:  20\n",
      "Digite 10 números positivos:  30\n",
      "Digite 10 números positivos:  40\n",
      "Digite 10 números positivos:  100\n",
      "Digite 10 números positivos:  200\n",
      "Digite 10 números positivos:  300\n",
      "Digite 10 números positivos:  300\n",
      "Digite 10 números positivos:  500\n",
      "Digite 10 números positivos:  500\n"
     ]
    },
    {
     "name": "stdout",
     "output_type": "stream",
     "text": [
      "A média dos valores digitados é 200.0\n"
     ]
    }
   ],
   "source": [
    "valores = 10\n",
    "soma = 0\n",
    "media = 0\n",
    "while soma < valores:\n",
    "    soma += 1\n",
    "    n = int(input(\"Digite 10 números positivos: \"))\n",
    "    media += n\n",
    "media /= float(valores)\n",
    "print(f\"A média dos valores digitados é {media}\")\n"
   ]
  },
  {
   "cell_type": "markdown",
   "id": "d62e27ff",
   "metadata": {},
   "source": [
    "### Q4.\n",
    "\n",
    "Você vai criar um sistema que registra os resultados dos jogos do Atlético MG ao longo de um campeonato. Seu sistema vai receber os resultados de todos os jogos do Galo, e deve calcular a pontuação do time sabendo que vitórias valem 3 pontos, empates 1 ponto e derrotas 0 pontos.\n",
    "\n",
    "Entrada: <br>\n",
    "A primeira linha de entrada é um inteiro N com a quantidade jogos do galo. Para cada jogo você deve ler 2 inteiros, o primeiro com a quantidade de gols do galo e o segundo com a quantidade de gols do time oponente. \n",
    "\n",
    "Saída: <br>\n",
    "Apresente a soma de vitórias, empates e derrotas do galo, junto com o cálculo da pontuação total.\n",
    "\n",
    "Ex:\n",
    "```\n",
    "Entrada:\n",
    "4\n",
    "2\n",
    "0\n",
    "1\n",
    "1\n",
    "0\n",
    "3\n",
    "1\n",
    "0\n",
    "\n",
    "Saída:\n",
    "Vitórias: 2\n",
    "Empates: 1\n",
    "Derrotas: 1\n",
    "Pontuação: 7\n",
    "\n",
    "```\n",
    "\n",
    "\n"
   ]
  },
  {
   "cell_type": "code",
   "execution_count": 25,
   "id": "d3fdfc2a",
   "metadata": {},
   "outputs": [
    {
     "name": "stdin",
     "output_type": "stream",
     "text": [
      "Digite a quantidade de jogos do galo: 3\n",
      "Digite a quantidade de gols do galo: 3\n",
      "Digite a quantidade de gols do oponente: 0\n",
      "Digite a quantidade de gols do galo: 2\n",
      "Digite a quantidade de gols do oponente: 2\n",
      "Digite a quantidade de gols do galo: 1\n",
      "Digite a quantidade de gols do oponente: 2\n"
     ]
    },
    {
     "name": "stdout",
     "output_type": "stream",
     "text": [
      "Vitória(s): 1\n",
      "Empate(s): 1\n",
      "Derrota(s): 1\n",
      "Pontuação: 4\n"
     ]
    }
   ],
   "source": [
    "jogos = int(input(\"Digite a quantidade de jogos do galo:\" ))\n",
    "galo = 0\n",
    "oponente = 0\n",
    "vitoria = 0\n",
    "derrota = 0\n",
    "empate = 0\n",
    "pontos = 0\n",
    "while jogos > 0:\n",
    "    x = int(input(\"Digite a quantidade de gols do galo:\" ))\n",
    "    y = int(input(\"Digite a quantidade de gols do oponente:\" ))\n",
    "    if x > y:\n",
    "        vitoria += 1\n",
    "        pontos += 3\n",
    "    elif y > x:\n",
    "        derrota += 1\n",
    "    elif x == y:\n",
    "        empate += 1\n",
    "        pontos += 1\n",
    "    jogos -= 1\n",
    "print(f\"Vitória(s): {vitoria}\")\n",
    "print(f\"Empate(s): {empate}\")\n",
    "print(f\"Derrota(s): {derrota}\")\n",
    "print(f\"Pontuação: {pontos}\")"
   ]
  },
  {
   "cell_type": "markdown",
   "id": "fc98604d",
   "metadata": {},
   "source": [
    "### Q5.\n",
    "\n",
    "Faça um programa que lê dois inteiros N e M, e imprime na tela um campo de batalha naval. O tabuleiro deve possuir N linhas e M colunas. A primeira linha é composta por um espaço em branco e o cabeçalho das colunas, ou seja, valores de 1 a M. As N linhas seguintes iniciam com o cabeçalho da linha, ou seja, seu número, seguido de M caracteres \"/\" (barra) indicando uma possível posição jogável. \n",
    "\n",
    "```\n",
    "Entrada:\n",
    "5\n",
    "4\n",
    "\n",
    "Saída:\n",
    "  1 2 3 4 \n",
    "1 / / / / \n",
    "2 / / / / \n",
    "3 / / / / \n",
    "4 / / / / \n",
    "5 / / / / \n",
    "```\n",
    "\n",
    "Para esse exercício, precisamos lembrar que o comando print implicitamente adiciona uma quebra de linha ao final da impressão. Podemos interferir no final da impressão adicionando mais uma entrada ao print. No exemplo, finalizamos cada linha com um espaço em branco:\n",
    "```python\n",
    "print(\"Texto qualquer\", end = \" \")\n",
    "```"
   ]
  },
  {
   "cell_type": "code",
   "execution_count": 257,
   "id": "a60ef197",
   "metadata": {},
   "outputs": [
    {
     "name": "stdin",
     "output_type": "stream",
     "text": [
      "Digite a quantidade de linhas:  5\n",
      "Digite a quantidade de colunas:  4\n"
     ]
    },
    {
     "name": "stdout",
     "output_type": "stream",
     "text": [
      "  1  2  3  40 ////\n",
      "1 ////\n",
      "2 ////\n",
      "3 ////\n",
      "4 ////\n",
      "5 ////\n"
     ]
    }
   ],
   "source": [
    "linha = int(input(\"Digite a quantidade de linhas: \"))\n",
    "coluna = int(input(\"Digite a quantidade de colunas: \"))\n",
    "caractere = \"/\"\n",
    "for x in range(1,coluna+1):\n",
    "    print( \" \", x, end = \"\")\n",
    "for y in range(0,linha+1):\n",
    "    print( y, coluna*caractere)"
   ]
  },
  {
   "cell_type": "markdown",
   "id": "4654dc0b",
   "metadata": {},
   "source": [
    "---\n",
    "## Break e Continue"
   ]
  },
  {
   "cell_type": "markdown",
   "id": "24fe9d85",
   "metadata": {},
   "source": [
    "### Q6.\n",
    "\n",
    "Escreva um programa que lê uma quantidade indefinida de valores e informa o maior e o menor valor digitados. A leitura é encerrada quando o usuário digitar o valor 0 (zero).\n",
    "\n",
    "```\n",
    "Entrada:\n",
    "12\n",
    "-1\n",
    "29\n",
    "11\n",
    "-5\n",
    "0\n",
    "\n",
    "Saída:\n",
    "Maior: 29\n",
    "Menor: -5\n",
    "```"
   ]
  },
  {
   "cell_type": "code",
   "execution_count": 47,
   "id": "ee1c466a",
   "metadata": {},
   "outputs": [
    {
     "name": "stdin",
     "output_type": "stream",
     "text": [
      "Digite um número 4\n",
      "Digite um número 5\n",
      "Digite um número 6\n",
      "Digite um número -7\n",
      "Digite um número -8\n",
      "Digite um número -9\n",
      "Digite um número 0\n"
     ]
    },
    {
     "name": "stdout",
     "output_type": "stream",
     "text": [
      "Maior: 6\n",
      "Menor: -9\n"
     ]
    }
   ],
   "source": [
    "maior = 0\n",
    "menor = 0\n",
    "while True:\n",
    "    x = int(input(\"Digite um número\"))\n",
    "    if x == 0:\n",
    "        break\n",
    "    if x > maior:\n",
    "        maior = x\n",
    "    elif x < menor:\n",
    "        menor = x\n",
    "print(f\"Maior: {maior}\")\n",
    "print(f\"Menor: {menor}\")"
   ]
  },
  {
   "cell_type": "markdown",
   "id": "30d486f7",
   "metadata": {},
   "source": [
    "### Q7.\n",
    "\n",
    "Escreva um programa que lê uma quantidade indefinida de valores e informa o **produto** dos valores positivos digitados. A leitura é encerrada quando o usuário digitar o valor 0 (zero).\n",
    "\n",
    "```\n",
    "Entrada:\n",
    "2\n",
    "-1\n",
    "1\n",
    "3\n",
    "-5\n",
    "0\n",
    "\n",
    "Saída:\n",
    "Produto: 6\n",
    "```"
   ]
  },
  {
   "cell_type": "code",
   "execution_count": 49,
   "id": "2f1ac324",
   "metadata": {},
   "outputs": [
    {
     "name": "stdin",
     "output_type": "stream",
     "text": [
      "Digite um número:  4\n",
      "Digite um número:  5\n",
      "Digite um número:  10\n",
      "Digite um número:  -2\n",
      "Digite um número:  -8\n",
      "Digite um número:  0\n"
     ]
    },
    {
     "name": "stdout",
     "output_type": "stream",
     "text": [
      "Produto: 200\n"
     ]
    }
   ],
   "source": [
    "produto = 1\n",
    "while True:\n",
    "    x = int(input(\"Digite um número: \"))\n",
    "    if x == 0:\n",
    "        break\n",
    "    if x > 0:\n",
    "        produto *= x\n",
    "print(f\"Produto: {produto}\")"
   ]
  },
  {
   "cell_type": "markdown",
   "id": "e932f3cf",
   "metadata": {},
   "source": [
    "### Q8.\n",
    "\n",
    "Vamos fazer uma calculadora que aceita expressões aritméticas de qualquer tamanho até que o usuário digite a palavra \"Fim\". Sua calculadora executa apenas as operações \"+\", \"-\".\n",
    "\n",
    "```\n",
    "Entrada:\n",
    "5\n",
    "+\n",
    "8\n",
    "-\n",
    "3\n",
    "+\n",
    "2\n",
    "Fim\n",
    "\n",
    "Saída:\n",
    "12\n",
    "```"
   ]
  },
  {
   "cell_type": "code",
   "execution_count": 203,
   "id": "e835d870",
   "metadata": {},
   "outputs": [
    {
     "name": "stdin",
     "output_type": "stream",
     "text": [
      "Digite um número:  5\n",
      "Digite um operador(+,-):  -\n",
      "Digite um número:  2\n",
      "Digite um operador(+,-):  Fim\n"
     ]
    },
    {
     "name": "stdout",
     "output_type": "stream",
     "text": [
      "Resultado: 3\n"
     ]
    }
   ],
   "source": [
    "resultado = 0\n",
    "valores = 0\n",
    "while True:\n",
    "    x = int(input(\"Digite um número: \"))\n",
    "    y = input(\"Digite um operador(+,-): \")\n",
    "    valores = x\n",
    "    if y == \"+\":\n",
    "        z = y\n",
    "    elif y == \"-\":\n",
    "        z = y\n",
    "\n",
    "\n",
    "    if y == \"+\":\n",
    "        resultado += x\n",
    "    elif y == \"-\":\n",
    "        resultado += x*2\n",
    "        resultado -= valores\n",
    "    if y == \"Fim\":\n",
    "        if z == \"+\":\n",
    "            resultado += x\n",
    "        elif z == \"-\":\n",
    "            resultado -= x\n",
    "        break\n",
    "print(f\"Resultado: {resultado}\")"
   ]
  },
  {
   "cell_type": "code",
   "execution_count": null,
   "id": "09a952bf-8494-4aa3-a4cf-2ab1813eeca3",
   "metadata": {},
   "outputs": [],
   "source": []
  }
 ],
 "metadata": {
  "kernelspec": {
   "display_name": "Python 3 (ipykernel)",
   "language": "python",
   "name": "python3"
  },
  "language_info": {
   "codemirror_mode": {
    "name": "ipython",
    "version": 3
   },
   "file_extension": ".py",
   "mimetype": "text/x-python",
   "name": "python",
   "nbconvert_exporter": "python",
   "pygments_lexer": "ipython3",
   "version": "3.11.7"
  }
 },
 "nbformat": 4,
 "nbformat_minor": 5
}
